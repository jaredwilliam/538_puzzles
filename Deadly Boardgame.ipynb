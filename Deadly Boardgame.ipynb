{
 "cells": [
  {
   "cell_type": "markdown",
   "metadata": {},
   "source": [
    "## Can You Survive This Deadly Board Game?"
   ]
  },
  {
   "cell_type": "code",
   "execution_count": 31,
   "metadata": {},
   "outputs": [],
   "source": [
    "import random\n",
    "board = [0]*1001"
   ]
  },
  {
   "cell_type": "code",
   "execution_count": 32,
   "metadata": {},
   "outputs": [],
   "source": [
    "position = 0"
   ]
  },
  {
   "cell_type": "code",
   "execution_count": 34,
   "metadata": {},
   "outputs": [],
   "source": [
    "coin1_pos = 2\n",
    "coin2_pos = 3\n",
    "coin3_pos = 4"
   ]
  },
  {
   "cell_type": "code",
   "execution_count": 35,
   "metadata": {},
   "outputs": [],
   "source": [
    "board[coin1_pos] = 1\n",
    "board[coin2_pos] = 1\n",
    "board[coin3_pos] = 1"
   ]
  },
  {
   "cell_type": "code",
   "execution_count": 37,
   "metadata": {},
   "outputs": [],
   "source": [
    "position += random.randint(1,6)"
   ]
  },
  {
   "cell_type": "code",
   "execution_count": 38,
   "metadata": {},
   "outputs": [
    {
     "data": {
      "text/plain": [
       "4"
      ]
     },
     "execution_count": 38,
     "metadata": {},
     "output_type": "execute_result"
    }
   ],
   "source": [
    "position"
   ]
  },
  {
   "cell_type": "code",
   "execution_count": 39,
   "metadata": {},
   "outputs": [
    {
     "name": "stdout",
     "output_type": "stream",
     "text": [
      "you live\n"
     ]
    }
   ],
   "source": [
    "if board[position] == 1:\n",
    "    print(\"you live\")\n",
    "else:\n",
    "    print('go again')"
   ]
  },
  {
   "cell_type": "code",
   "execution_count": null,
   "metadata": {},
   "outputs": [],
   "source": [
    "# place coins\n",
    "# roll die\n",
    "# update position\n",
    "# check if on coin\n",
    "# if yes, go free\n",
    "# if no, check if past all coins\n",
    "# past all coins?\n",
    "# if yes, die\n",
    "# if no, roll again"
   ]
  },
  {
   "cell_type": "code",
   "execution_count": 54,
   "metadata": {},
   "outputs": [],
   "source": [
    "class DeadlyGame:\n",
    "    \n",
    "    from random import randint\n",
    "    \n",
    "    def __init__(self, board_length = 1000, coins = 3, die_sides = 6):\n",
    "        self.board_length = board_length\n",
    "        self.coins = coins\n",
    "        self.die_sides = die_sides\n",
    "        self.coin1 = 0\n",
    "        self.coin2 = 0\n",
    "        self.coin3 = 0\n",
    "        self.player_pos = 0\n",
    "    \n",
    "    def place_coins(self, a, b, c):\n",
    "        self.coin1 = a\n",
    "        self.coin2 = b\n",
    "        self.coin3 = c\n",
    "    \n",
    "    def roll_die(self):\n",
    "        player_pos += randint(1,die_sides)\n",
    "        self.check_position()\n",
    "    \n",
    "    def check_position(self):\n",
    "        print('position dude')"
   ]
  },
  {
   "cell_type": "code",
   "execution_count": 55,
   "metadata": {},
   "outputs": [],
   "source": [
    "game = DeadlyGame()"
   ]
  },
  {
   "cell_type": "code",
   "execution_count": 56,
   "metadata": {},
   "outputs": [
    {
     "data": {
      "text/plain": [
       "3"
      ]
     },
     "execution_count": 56,
     "metadata": {},
     "output_type": "execute_result"
    }
   ],
   "source": [
    "game.coins"
   ]
  },
  {
   "cell_type": "code",
   "execution_count": 57,
   "metadata": {},
   "outputs": [],
   "source": [
    "game.place_coins(2,3,4)"
   ]
  },
  {
   "cell_type": "code",
   "execution_count": null,
   "metadata": {},
   "outputs": [],
   "source": []
  }
 ],
 "metadata": {
  "kernelspec": {
   "display_name": "Python 3",
   "language": "python",
   "name": "python3"
  },
  "language_info": {
   "codemirror_mode": {
    "name": "ipython",
    "version": 3
   },
   "file_extension": ".py",
   "mimetype": "text/x-python",
   "name": "python",
   "nbconvert_exporter": "python",
   "pygments_lexer": "ipython3",
   "version": "3.7.6"
  }
 },
 "nbformat": 4,
 "nbformat_minor": 4
}
